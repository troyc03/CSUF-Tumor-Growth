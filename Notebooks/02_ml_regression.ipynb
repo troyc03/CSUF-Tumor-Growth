{
 "cells": [
  {
   "cell_type": "markdown",
   "id": "a9b614a8",
   "metadata": {},
   "source": [
    "# 🤖 Predicting Tumor Growth with Linear Regression\n",
    "\n",
    "In this notebook, we use **linear regression** to predict tumor size over time based on the synthetic data generated from our ODE models (Logistic and Gompertz). This is the first step in applying machine learning to emulate biological growth without explicitly modeling the underlying differential equations.\n",
    "\n",
    "---\n",
    "\n",
    "## 🧪 What We’ll Do\n",
    "\n",
    "- Export the generated data for further analysis using linear regression\n",
    "- Read the given data and plot the data using ```python matplotlib.pyplot``\n",
    "- Model and fit our data using ```python sklearn.model_selection```\n",
    "- Plot our model using ```python sklearn.linear_model```"
   ]
  },
  {
   "cell_type": "code",
   "execution_count": null,
   "id": "c37c3761",
   "metadata": {},
   "outputs": [
    {
     "name": "stdout",
     "output_type": "stream",
     "text": [
      "       time   logistic   gompertz\n",
      "0  0.000000  10.000000  10.000000\n",
      "1  0.200401  10.404687  11.983164\n",
      "2  0.400802  10.825574  14.257702\n",
      "3  0.601202  11.263292  16.849024\n",
      "4  0.801603  11.718498  19.781519\n"
     ]
    }
   ],
   "source": [
    "import matplotlib.pyplot as plt\n",
    "import pandas as pd\n",
    "from sklearn.model_selection import train_test_split\n",
    "from sklearn.linear_model import LinearRegression\n",
    "\n",
    "df = pd.read_csv('simulated_growth_model.csv')\n",
    "print(df.head())\n",
    "\n",
    "X = df[['time']]\n",
    "y_logistic = df['logistic']\n",
    "y_gompertz = df['gompertz']\n",
    "X_train, X_test, y_train_log, y_test_log = train_test_split(X, y_logistic, test_size=0.7, random_state=42)\n",
    "X_train, X_test, y_train_gomp, y_test_gomp = train_test_split(X, y_gompertz, test_size=0.7, random_state=42)\n",
    "\n",
    "# Model Linear Regression\n",
    "model_log = LinearRegression()\n",
    "model_log = LinearRegression()\n",
    "model_log.fit(X_train, y_train_log)\n",
    "model_gomp = LinearRegression()\n",
    "model_gomp.fit(X_train, y_train_gomp)\n",
    "\n",
    "# Plot Linear Regression results\n",
    "y_pred_log = model_log.predict(X_test)\n",
    "y_pred_gomp = model_log.predict(X_test)\n",
    "\n",
    "plt.scatter(X_test, y_test_log, label='Logistic True', alpha=0.05)\n",
    "plt.scatter(X_test, y_test_gomp, label='Gompertz True', alpha=0.05)\n",
    "plt.plot(X, model_log.predict(X), label='Linear Fit', color='black', linestyle='--')\n",
    "plt.title('Linear Regression: Logistic Model')\n",
    "plt.xlabel('Time')\n",
    "plt.ylabel('Tumor Size')\n",
    "plt.legend()\n",
    "plt.show()"
   ]
  }
 ],
 "metadata": {
  "kernelspec": {
   "display_name": "base",
   "language": "python",
   "name": "python3"
  },
  "language_info": {
   "codemirror_mode": {
    "name": "ipython",
    "version": 3
   },
   "file_extension": ".py",
   "mimetype": "text/x-python",
   "name": "python",
   "nbconvert_exporter": "python",
   "pygments_lexer": "ipython3",
   "version": "3.12.7"
  }
 },
 "nbformat": 4,
 "nbformat_minor": 5
}
